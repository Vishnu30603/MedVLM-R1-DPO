{
 "cells": [
  {
   "cell_type": "code",
   "execution_count": null,
   "metadata": {
    "colab": {
     "base_uri": "https://localhost:8080/",
     "height": 208,
     "referenced_widgets": [
      "b6dc45932c46481394043284f3b5da1d",
      "ae14f17d033b45c883566bc100fc880a",
      "507e91a3ac6c42bd9adfd86ef63beabf",
      "c0adb050988244d3a7b70eaa7c522201",
      "60ef9c891a5a47a891de3ccec64b2792",
      "bb6c73c8ee824f5e8ad132a785c36d62",
      "b26daf11cdae4e11a6718a3f5d58befe",
      "6da312fba1df490bbd1fb542d6d0e598",
      "7e5d6443b9b142738dce230115d5cd6c",
      "9450e656f8554eedbbdbd80e3527dbc9",
      "dc262706c78542f7874b1115d64c9cef",
      "c099209bd0e548d3a0453e3196232fe3",
      "fb764935a9ed46f591dfccb12a5d0243",
      "1a4b0109b06e414ab78e04131e32b919",
      "eca83a24b341474b8faa81f27b51705b",
      "7432c7288dfe4134935d2565eeb73d94",
      "356f97ef3373483f9662fcd884077a4b",
      "492f4cad0a19421c9fe4b4da2ca2884c",
      "e20beabf7d334e14aaf6a80cbe0d98a6",
      "ffc0dc0f94b2476388d17731d959338b",
      "6b71140a01d84d5e92684f608a1e15c3",
      "a8261bfe820e43eeac45497c7bfb2875"
     ]
    },
    "execution": {
     "iopub.execute_input": "2025-07-14T19:32:46.723098Z",
     "iopub.status.busy": "2025-07-14T19:32:46.722875Z",
     "iopub.status.idle": "2025-07-14T19:33:05.200828Z",
     "shell.execute_reply": "2025-07-14T19:33:05.200399Z"
    },
    "id": "AD_T80ZbN9vh",
    "outputId": "522f32b2-0b9b-44ef-8c56-fe25a59e265f"
   },
   "outputs": [
    {
     "name": "stderr",
     "output_type": "stream",
     "text": [
      "/mnt/vdb/vishnu/llamafactory_env/venv/lib/python3.11/site-packages/tqdm/auto.py:21: TqdmWarning: IProgress not found. Please update jupyter and ipywidgets. See https://ipywidgets.readthedocs.io/en/stable/user_install.html\n",
      "  from .autonotebook import tqdm as notebook_tqdm\n"
     ]
    },
    {
     "name": "stderr",
     "output_type": "stream",
     "text": [
      "\r\n",
      "Loading checkpoint shards:   0%|                                                                                                                                                      | 0/2 [00:00<?, ?it/s]"
     ]
    },
    {
     "name": "stderr",
     "output_type": "stream",
     "text": [
      "\r\n",
      "Loading checkpoint shards:  50%|███████████████████████████████████████████████████████████████████████                                                                       | 1/2 [00:01<00:01,  1.22s/it]"
     ]
    },
    {
     "name": "stderr",
     "output_type": "stream",
     "text": [
      "\r\n",
      "Loading checkpoint shards: 100%|██████████████████████████████████████████████████████████████████████████████████████████████████████████████████████████████████████████████| 2/2 [00:01<00:00,  1.78it/s]"
     ]
    },
    {
     "name": "stderr",
     "output_type": "stream",
     "text": [
      "\r\n",
      "Loading checkpoint shards: 100%|██████████████████████████████████████████████████████████████████████████████████████████████████████████████████████████████████████████████| 2/2 [00:01<00:00,  1.51it/s]"
     ]
    },
    {
     "name": "stderr",
     "output_type": "stream",
     "text": [
      "\n"
     ]
    },
    {
     "name": "stderr",
     "output_type": "stream",
     "text": [
      "Using a slow image processor as `use_fast` is unset and a slow processor was saved with this model. `use_fast=True` will be the default behavior in v4.52, even if the model was saved with a slow processor. This will result in minor differences in outputs. You'll still be able to use a slow processor with `use_fast=False`.\n"
     ]
    },
    {
     "name": "stderr",
     "output_type": "stream",
     "text": [
      "You have video processor config saved in `preprocessor.json` file which is deprecated. Video processor configs should be saved in their own `video_preprocessor.json` file. You can rename the file or load and save the processor back which renames it automatically. Loading from `preprocessor.json` will be removed in v5.0.\n"
     ]
    }
   ],
   "source": [
    "from transformers import Qwen2VLForConditionalGeneration, AutoProcessor\n",
    "import json\n",
    "from PIL import Image\n",
    "import matplotlib.pyplot as plt\n",
    "from tqdm import tqdm\n",
    "import re\n",
    "import torch\n",
    "\n",
    "# Model and processor paths\n",
    "model_dir = \"Qwen/Qwen2-VL-2B-Instruct\"\n",
    "model = Qwen2VLForConditionalGeneration.from_pretrained(model_dir).to(\"cuda\")\n",
    "processor = AutoProcessor.from_pretrained(\n",
    "    model_dir,\n",
    "    image_min_pixels=1024,\n",
    "    image_max_pixels=589824\n",
    ")\n",
    "processor.tokenizer.padding_side = 'left'\n",
    "\n",
    "def patch_tokenizer_and_processor(tokenizer, processor):\n",
    "    if tokenizer.pad_token is None:\n",
    "        if tokenizer.eos_token is not None:\n",
    "            tokenizer.pad_token = tokenizer.eos_token\n",
    "        else:\n",
    "            tokenizer.pad_token = \"<|endoftext|>\"\n",
    "    if tokenizer.pad_token_id is None:\n",
    "        if tokenizer.eos_token_id is not None:\n",
    "            tokenizer.pad_token_id = tokenizer.eos_token_id\n",
    "        else:\n",
    "            tokenizer.pad_token_id = 0\n",
    "    if tokenizer.bos_token_id is None:\n",
    "        if tokenizer.eos_token_id is not None:\n",
    "            tokenizer.bos_token_id = tokenizer.eos_token_id\n",
    "        else:\n",
    "            tokenizer.bos_token_id = 0\n",
    "    if tokenizer.eos_token_id is None:\n",
    "        if hasattr(tokenizer, \"eos_token\") and tokenizer.eos_token is not None:\n",
    "            tokenizer.eos_token_id = tokenizer.convert_tokens_to_ids(tokenizer.eos_token)\n",
    "        else:\n",
    "            tokenizer.eos_token_id = 0\n",
    "    processor.pad_token = tokenizer.pad_token\n",
    "    processor.pad_token_id = tokenizer.pad_token_id\n",
    "    processor.bos_token_id = tokenizer.bos_token_id\n",
    "    processor.eos_token_id = tokenizer.eos_token_id\n",
    "\n",
    "patch_tokenizer_and_processor(processor.tokenizer, processor)\n",
    "\n",
    "def extract_answer(text):\n",
    "    match = re.search(r\"<answer>\\s*([A-D])\\s*</answer>\", text, re.IGNORECASE)\n",
    "    if match:\n",
    "        return match.group(1).upper()\n",
    "    return None\n",
    "\n",
    "def evaluate(\n",
    "    test_jsonl,\n",
    "    model,\n",
    "    processor,\n",
    "    device=\"cuda\",\n",
    "    max_new_tokens=256,\n",
    "    batch_size=4,\n",
    "):\n",
    "    \"\"\"Evaluate a single test set with optional image visualization.\"\"\"\n",
    "    samples = []\n",
    "    with open(test_jsonl, \"r\") as f:\n",
    "        for line in f:\n",
    "            samples.append(json.loads(line))\n",
    "    correct = 0\n",
    "    total = 0\n",
    "\n",
    "    for i in tqdm(range(0, len(samples), batch_size), desc=\"Evaluating\"):\n",
    "        batch = samples[i:i+batch_size]\n",
    "        prompts = [sample[\"prompt\"] for sample in batch]\n",
    "        def resize_if_needed(img, max_size=768):\n",
    "            if img.width > max_size or img.height > max_size:\n",
    "                img.thumbnail((max_size, max_size), Image.LANCZOS)\n",
    "            return img\n",
    "        images = [resize_if_needed(Image.open(sample[\"image_path\"]).convert(\"RGB\")) for sample in batch]\n",
    "        gt_letters = [extract_answer(sample.get(\"chosen\", \"\")) for sample in batch]\n",
    "        text_inputs = [\n",
    "            processor.apply_chat_template(\n",
    "                [{\"role\": \"user\", \"content\": [\n",
    "                    {\"type\": \"image\"},\n",
    "                    {\"type\": \"text\", \"text\": prompt}\n",
    "                ]}],\n",
    "                tokenize=False,\n",
    "                add_generation_prompt=True\n",
    "            )\n",
    "            for prompt in prompts\n",
    "        ]\n",
    "        inputs = processor(text=text_inputs, images=images, return_tensors=\"pt\", padding=True).to(device)\n",
    "        with torch.no_grad():\n",
    "            generated_ids = model.generate(**inputs, max_new_tokens=max_new_tokens)\n",
    "        input_len = inputs['input_ids'].shape[1]\n",
    "        decoded = processor.batch_decode(generated_ids[:, input_len:], skip_special_tokens=True)\n",
    "        for idx, (pred, gt, prompt, image_path, img) in enumerate(zip(decoded, gt_letters, prompts, [sample[\"image_path\"] for sample in batch], images)):\n",
    "            pred_letter = extract_answer(pred)\n",
    "            if pred_letter and gt and pred_letter == gt:\n",
    "                correct += 1\n",
    "            total += 1\n",
    "\n",
    "        del inputs, generated_ids\n",
    "        torch.cuda.empty_cache()\n",
    "    accuracy = correct / total if total > 0 else 0\n",
    "    print(f\"\\nAccuracy: {accuracy:.4f} ({correct}/{total})\")\n",
    "\n",
    "test_sets = {\n",
    "    \"MRI (in-domain)\": \"/home/vishnu/data/llamafactory_env/LLaMA-Factory/test_sets/test_mri_dpo.jsonl\",\n",
    "    \"CT (OOD)\": \"/home/vishnu/data/llamafactory_env/LLaMA-Factory/test_sets/test_ct_dpo.jsonl\",\n",
    "    \"X-ray (OOD)\": \"/home/vishnu/data/llamafactory_env/LLaMA-Factory/test_sets/test_xray_dpo.jsonl\"\n",
    "}"
   ]
  },
  {
   "cell_type": "code",
   "execution_count": 2,
   "metadata": {
    "colab": {
     "base_uri": "https://localhost:8080/",
     "height": 1000
    },
    "execution": {
     "iopub.execute_input": "2025-07-14T19:33:05.202779Z",
     "iopub.status.busy": "2025-07-14T19:33:05.202194Z",
     "iopub.status.idle": "2025-07-14T19:35:37.654038Z",
     "shell.execute_reply": "2025-07-14T19:35:37.653619Z"
    },
    "id": "WcJq2VheQPV8",
    "outputId": "43cf5c5a-2655-422f-85d2-38df415676df"
   },
   "outputs": [
    {
     "name": "stdout",
     "output_type": "stream",
     "text": [
      "\n",
      "Evaluating on MRI (in-domain)...\n"
     ]
    },
    {
     "name": "stderr",
     "output_type": "stream",
     "text": [
      "\r\n",
      "Evaluating:   0%|                                                                                                                                                                    | 0/38 [00:00<?, ?it/s]"
     ]
    },
    {
     "name": "stderr",
     "output_type": "stream",
     "text": [
      "\r\n",
      "Evaluating:   3%|████                                                                                                                                                        | 1/38 [00:05<03:10,  5.16s/it]"
     ]
    },
    {
     "name": "stderr",
     "output_type": "stream",
     "text": [
      "\r\n",
      "Evaluating:   5%|████████▏                                                                                                                                                   | 2/38 [00:09<02:45,  4.60s/it]"
     ]
    },
    {
     "name": "stderr",
     "output_type": "stream",
     "text": [
      "\r\n",
      "Evaluating:   8%|████████████▎                                                                                                                                               | 3/38 [00:13<02:28,  4.25s/it]"
     ]
    },
    {
     "name": "stderr",
     "output_type": "stream",
     "text": [
      "\r\n",
      "Evaluating:  11%|████████████████▍                                                                                                                                           | 4/38 [00:17<02:21,  4.17s/it]"
     ]
    },
    {
     "name": "stderr",
     "output_type": "stream",
     "text": [
      "\r\n",
      "Evaluating:  13%|████████████████████▌                                                                                                                                       | 5/38 [00:21<02:23,  4.34s/it]"
     ]
    },
    {
     "name": "stderr",
     "output_type": "stream",
     "text": [
      "\r\n",
      "Evaluating:  16%|████████████████████████▋                                                                                                                                   | 6/38 [00:24<01:58,  3.71s/it]"
     ]
    },
    {
     "name": "stderr",
     "output_type": "stream",
     "text": [
      "\r\n",
      "Evaluating:  18%|████████████████████████████▋                                                                                                                               | 7/38 [00:29<02:05,  4.04s/it]"
     ]
    },
    {
     "name": "stderr",
     "output_type": "stream",
     "text": [
      "\r\n",
      "Evaluating:  21%|████████████████████████████████▊                                                                                                                           | 8/38 [00:33<02:07,  4.26s/it]"
     ]
    },
    {
     "name": "stderr",
     "output_type": "stream",
     "text": [
      "\r\n",
      "Evaluating:  24%|████████████████████████████████████▉                                                                                                                       | 9/38 [00:37<01:57,  4.04s/it]"
     ]
    },
    {
     "name": "stderr",
     "output_type": "stream",
     "text": [
      "\r\n",
      "Evaluating:  26%|████████████████████████████████████████▊                                                                                                                  | 10/38 [00:40<01:46,  3.80s/it]"
     ]
    },
    {
     "name": "stderr",
     "output_type": "stream",
     "text": [
      "\r\n",
      "Evaluating:  29%|████████████████████████████████████████████▊                                                                                                              | 11/38 [00:44<01:45,  3.90s/it]"
     ]
    },
    {
     "name": "stderr",
     "output_type": "stream",
     "text": [
      "\r\n",
      "Evaluating:  32%|████████████████████████████████████████████████▉                                                                                                          | 12/38 [00:49<01:47,  4.15s/it]"
     ]
    },
    {
     "name": "stderr",
     "output_type": "stream",
     "text": [
      "\r\n",
      "Evaluating:  34%|█████████████████████████████████████████████████████                                                                                                      | 13/38 [00:53<01:42,  4.11s/it]"
     ]
    },
    {
     "name": "stderr",
     "output_type": "stream",
     "text": [
      "\r\n",
      "Evaluating:  37%|█████████████████████████████████████████████████████████                                                                                                  | 14/38 [00:57<01:38,  4.10s/it]"
     ]
    },
    {
     "name": "stderr",
     "output_type": "stream",
     "text": [
      "\r\n",
      "Evaluating:  39%|█████████████████████████████████████████████████████████████▏                                                                                             | 15/38 [01:01<01:36,  4.19s/it]"
     ]
    },
    {
     "name": "stderr",
     "output_type": "stream",
     "text": [
      "\r\n",
      "Evaluating:  42%|█████████████████████████████████████████████████████████████████▎                                                                                         | 16/38 [01:05<01:26,  3.94s/it]"
     ]
    },
    {
     "name": "stderr",
     "output_type": "stream",
     "text": [
      "\r\n",
      "Evaluating:  45%|█████████████████████████████████████████████████████████████████████▎                                                                                     | 17/38 [01:08<01:17,  3.67s/it]"
     ]
    },
    {
     "name": "stderr",
     "output_type": "stream",
     "text": [
      "\r\n",
      "Evaluating:  47%|█████████████████████████████████████████████████████████████████████████▍                                                                                 | 18/38 [01:12<01:18,  3.91s/it]"
     ]
    },
    {
     "name": "stderr",
     "output_type": "stream",
     "text": [
      "\r\n",
      "Evaluating:  50%|█████████████████████████████████████████████████████████████████████████████▌                                                                             | 19/38 [01:16<01:15,  3.97s/it]"
     ]
    },
    {
     "name": "stderr",
     "output_type": "stream",
     "text": [
      "\r\n",
      "Evaluating:  53%|█████████████████████████████████████████████████████████████████████████████████▌                                                                         | 20/38 [01:20<01:10,  3.89s/it]"
     ]
    },
    {
     "name": "stderr",
     "output_type": "stream",
     "text": [
      "\r\n",
      "Evaluating:  55%|█████████████████████████████████████████████████████████████████████████████████████▋                                                                     | 21/38 [01:24<01:08,  4.02s/it]"
     ]
    },
    {
     "name": "stderr",
     "output_type": "stream",
     "text": [
      "\r\n",
      "Evaluating:  58%|█████████████████████████████████████████████████████████████████████████████████████████▋                                                                 | 22/38 [01:27<00:55,  3.46s/it]"
     ]
    },
    {
     "name": "stderr",
     "output_type": "stream",
     "text": [
      "\r\n",
      "Evaluating:  61%|█████████████████████████████████████████████████████████████████████████████████████████████▊                                                             | 23/38 [01:31<00:56,  3.74s/it]"
     ]
    },
    {
     "name": "stderr",
     "output_type": "stream",
     "text": [
      "\r\n",
      "Evaluating:  63%|█████████████████████████████████████████████████████████████████████████████████████████████████▉                                                         | 24/38 [01:36<00:55,  3.98s/it]"
     ]
    },
    {
     "name": "stderr",
     "output_type": "stream",
     "text": [
      "\r\n",
      "Evaluating:  66%|█████████████████████████████████████████████████████████████████████████████████████████████████████▉                                                     | 25/38 [01:40<00:54,  4.20s/it]"
     ]
    },
    {
     "name": "stderr",
     "output_type": "stream",
     "text": [
      "\r\n",
      "Evaluating:  68%|██████████████████████████████████████████████████████████████████████████████████████████████████████████                                                 | 26/38 [01:45<00:51,  4.33s/it]"
     ]
    },
    {
     "name": "stderr",
     "output_type": "stream",
     "text": [
      "\r\n",
      "Evaluating:  71%|██████████████████████████████████████████████████████████████████████████████████████████████████████████████▏                                            | 27/38 [01:50<00:49,  4.47s/it]"
     ]
    },
    {
     "name": "stderr",
     "output_type": "stream",
     "text": [
      "\r\n",
      "Evaluating:  74%|██████████████████████████████████████████████████████████████████████████████████████████████████████████████████▏                                        | 28/38 [01:53<00:42,  4.20s/it]"
     ]
    },
    {
     "name": "stderr",
     "output_type": "stream",
     "text": [
      "\r\n",
      "Evaluating:  76%|██████████████████████████████████████████████████████████████████████████████████████████████████████████████████████▎                                    | 29/38 [01:58<00:39,  4.36s/it]"
     ]
    },
    {
     "name": "stderr",
     "output_type": "stream",
     "text": [
      "\r\n",
      "Evaluating:  79%|██████████████████████████████████████████████████████████████████████████████████████████████████████████████████████████▎                                | 30/38 [02:02<00:32,  4.11s/it]"
     ]
    },
    {
     "name": "stderr",
     "output_type": "stream",
     "text": [
      "\r\n",
      "Evaluating:  82%|██████████████████████████████████████████████████████████████████████████████████████████████████████████████████████████████▍                            | 31/38 [02:04<00:26,  3.73s/it]"
     ]
    },
    {
     "name": "stderr",
     "output_type": "stream",
     "text": [
      "\r\n",
      "Evaluating:  84%|██████████████████████████████████████████████████████████████████████████████████████████████████████████████████████████████████▌                        | 32/38 [02:08<00:21,  3.63s/it]"
     ]
    },
    {
     "name": "stderr",
     "output_type": "stream",
     "text": [
      "\r\n",
      "Evaluating:  87%|██████████████████████████████████████████████████████████████████████████████████████████████████████████████████████████████████████▌                    | 33/38 [02:12<00:18,  3.76s/it]"
     ]
    },
    {
     "name": "stderr",
     "output_type": "stream",
     "text": [
      "\r\n",
      "Evaluating:  89%|██████████████████████████████████████████████████████████████████████████████████████████████████████████████████████████████████████████▋                | 34/38 [02:16<00:15,  3.95s/it]"
     ]
    },
    {
     "name": "stderr",
     "output_type": "stream",
     "text": [
      "\r\n",
      "Evaluating:  92%|██████████████████████████████████████████████████████████████████████████████████████████████████████████████████████████████████████████████▊            | 35/38 [02:20<00:11,  3.97s/it]"
     ]
    },
    {
     "name": "stderr",
     "output_type": "stream",
     "text": [
      "\r\n",
      "Evaluating:  95%|██████████████████████████████████████████████████████████████████████████████████████████████████████████████████████████████████████████████████▊        | 36/38 [02:25<00:08,  4.14s/it]"
     ]
    },
    {
     "name": "stderr",
     "output_type": "stream",
     "text": [
      "\r\n",
      "Evaluating:  97%|██████████████████████████████████████████████████████████████████████████████████████████████████████████████████████████████████████████████████████▉    | 37/38 [02:29<00:04,  4.30s/it]"
     ]
    },
    {
     "name": "stderr",
     "output_type": "stream",
     "text": [
      "\r\n",
      "Evaluating: 100%|███████████████████████████████████████████████████████████████████████████████████████████████████████████████████████████████████████████████████████████| 38/38 [02:32<00:00,  3.75s/it]"
     ]
    },
    {
     "name": "stderr",
     "output_type": "stream",
     "text": [
      "\r\n",
      "Evaluating: 100%|███████████████████████████████████████████████████████████████████████████████████████████████████████████████████████████████████████████████████████████| 38/38 [02:32<00:00,  4.01s/it]"
     ]
    },
    {
     "name": "stdout",
     "output_type": "stream",
     "text": [
      "\n",
      "Accuracy: 0.3200 (48/150)\n"
     ]
    },
    {
     "name": "stderr",
     "output_type": "stream",
     "text": [
      "\n"
     ]
    }
   ],
   "source": [
    "print(\"\\nEvaluating on MRI (in-domain)...\")\n",
    "evaluate(\n",
    "    test_sets[\"MRI (in-domain)\"],\n",
    "    model,\n",
    "    processor,\n",
    "    batch_size=4\n",
    ")"
   ]
  },
  {
   "cell_type": "code",
   "execution_count": 3,
   "metadata": {
    "colab": {
     "base_uri": "https://localhost:8080/",
     "height": 1000
    },
    "execution": {
     "iopub.execute_input": "2025-07-14T19:35:37.655724Z",
     "iopub.status.busy": "2025-07-14T19:35:37.655346Z",
     "iopub.status.idle": "2025-07-14T19:38:04.295929Z",
     "shell.execute_reply": "2025-07-14T19:38:04.295430Z"
    },
    "id": "UPB2nZ2wQTHm",
    "outputId": "971cabc7-1c6b-4a8b-ec22-15a0a800c3c4"
   },
   "outputs": [
    {
     "name": "stdout",
     "output_type": "stream",
     "text": [
      "\n",
      "Evaluating on CT (OOD)...\n"
     ]
    },
    {
     "name": "stderr",
     "output_type": "stream",
     "text": [
      "\r\n",
      "Evaluating:   0%|                                                                                                                                                                    | 0/38 [00:00<?, ?it/s]"
     ]
    },
    {
     "name": "stderr",
     "output_type": "stream",
     "text": [
      "\r\n",
      "Evaluating:   3%|████                                                                                                                                                        | 1/38 [00:04<02:43,  4.42s/it]"
     ]
    },
    {
     "name": "stderr",
     "output_type": "stream",
     "text": [
      "\r\n",
      "Evaluating:   5%|████████▏                                                                                                                                                   | 2/38 [00:09<02:45,  4.59s/it]"
     ]
    },
    {
     "name": "stderr",
     "output_type": "stream",
     "text": [
      "\r\n",
      "Evaluating:   8%|████████████▎                                                                                                                                               | 3/38 [00:12<02:18,  3.97s/it]"
     ]
    },
    {
     "name": "stderr",
     "output_type": "stream",
     "text": [
      "\r\n",
      "Evaluating:  11%|████████████████▍                                                                                                                                           | 4/38 [00:15<01:58,  3.49s/it]"
     ]
    },
    {
     "name": "stderr",
     "output_type": "stream",
     "text": [
      "\r\n",
      "Evaluating:  13%|████████████████████▌                                                                                                                                       | 5/38 [00:19<02:10,  3.95s/it]"
     ]
    },
    {
     "name": "stderr",
     "output_type": "stream",
     "text": [
      "\r\n",
      "Evaluating:  16%|████████████████████████▋                                                                                                                                   | 6/38 [00:24<02:09,  4.05s/it]"
     ]
    },
    {
     "name": "stderr",
     "output_type": "stream",
     "text": [
      "\r\n",
      "Evaluating:  18%|████████████████████████████▋                                                                                                                               | 7/38 [00:26<01:52,  3.61s/it]"
     ]
    },
    {
     "name": "stderr",
     "output_type": "stream",
     "text": [
      "\r\n",
      "Evaluating:  21%|████████████████████████████████▊                                                                                                                           | 8/38 [00:29<01:38,  3.30s/it]"
     ]
    },
    {
     "name": "stderr",
     "output_type": "stream",
     "text": [
      "\r\n",
      "Evaluating:  24%|████████████████████████████████████▉                                                                                                                       | 9/38 [00:33<01:45,  3.64s/it]"
     ]
    },
    {
     "name": "stderr",
     "output_type": "stream",
     "text": [
      "\r\n",
      "Evaluating:  26%|████████████████████████████████████████▊                                                                                                                  | 10/38 [00:38<01:47,  3.84s/it]"
     ]
    },
    {
     "name": "stderr",
     "output_type": "stream",
     "text": [
      "\r\n",
      "Evaluating:  29%|████████████████████████████████████████████▊                                                                                                              | 11/38 [00:41<01:41,  3.74s/it]"
     ]
    },
    {
     "name": "stderr",
     "output_type": "stream",
     "text": [
      "\r\n",
      "Evaluating:  32%|████████████████████████████████████████████████▉                                                                                                          | 12/38 [00:46<01:43,  3.97s/it]"
     ]
    },
    {
     "name": "stderr",
     "output_type": "stream",
     "text": [
      "\r\n",
      "Evaluating:  34%|█████████████████████████████████████████████████████                                                                                                      | 13/38 [00:49<01:36,  3.85s/it]"
     ]
    },
    {
     "name": "stderr",
     "output_type": "stream",
     "text": [
      "\r\n",
      "Evaluating:  37%|█████████████████████████████████████████████████████████                                                                                                  | 14/38 [00:53<01:35,  3.98s/it]"
     ]
    },
    {
     "name": "stderr",
     "output_type": "stream",
     "text": [
      "\r\n",
      "Evaluating:  39%|█████████████████████████████████████████████████████████████▏                                                                                             | 15/38 [00:58<01:32,  4.02s/it]"
     ]
    },
    {
     "name": "stderr",
     "output_type": "stream",
     "text": [
      "\r\n",
      "Evaluating:  42%|█████████████████████████████████████████████████████████████████▎                                                                                         | 16/38 [01:02<01:28,  4.01s/it]"
     ]
    },
    {
     "name": "stderr",
     "output_type": "stream",
     "text": [
      "\r\n",
      "Evaluating:  45%|█████████████████████████████████████████████████████████████████████▎                                                                                     | 17/38 [01:06<01:25,  4.08s/it]"
     ]
    },
    {
     "name": "stderr",
     "output_type": "stream",
     "text": [
      "\r\n",
      "Evaluating:  47%|█████████████████████████████████████████████████████████████████████████▍                                                                                 | 18/38 [01:09<01:15,  3.77s/it]"
     ]
    },
    {
     "name": "stderr",
     "output_type": "stream",
     "text": [
      "\r\n",
      "Evaluating:  50%|█████████████████████████████████████████████████████████████████████████████▌                                                                             | 19/38 [01:13<01:16,  4.00s/it]"
     ]
    },
    {
     "name": "stderr",
     "output_type": "stream",
     "text": [
      "\r\n",
      "Evaluating:  53%|█████████████████████████████████████████████████████████████████████████████████▌                                                                         | 20/38 [01:17<01:07,  3.76s/it]"
     ]
    },
    {
     "name": "stderr",
     "output_type": "stream",
     "text": [
      "\r\n",
      "Evaluating:  55%|█████████████████████████████████████████████████████████████████████████████████████▋                                                                     | 21/38 [01:20<01:03,  3.71s/it]"
     ]
    },
    {
     "name": "stderr",
     "output_type": "stream",
     "text": [
      "\r\n",
      "Evaluating:  58%|█████████████████████████████████████████████████████████████████████████████████████████▋                                                                 | 22/38 [01:25<01:03,  3.99s/it]"
     ]
    },
    {
     "name": "stderr",
     "output_type": "stream",
     "text": [
      "\r\n",
      "Evaluating:  61%|█████████████████████████████████████████████████████████████████████████████████████████████▊                                                             | 23/38 [01:30<01:03,  4.20s/it]"
     ]
    },
    {
     "name": "stderr",
     "output_type": "stream",
     "text": [
      "\r\n",
      "Evaluating:  63%|█████████████████████████████████████████████████████████████████████████████████████████████████▉                                                         | 24/38 [01:32<00:53,  3.81s/it]"
     ]
    },
    {
     "name": "stderr",
     "output_type": "stream",
     "text": [
      "\r\n",
      "Evaluating:  66%|█████████████████████████████████████████████████████████████████████████████████████████████████████▉                                                     | 25/38 [01:35<00:45,  3.50s/it]"
     ]
    },
    {
     "name": "stderr",
     "output_type": "stream",
     "text": [
      "\r\n",
      "Evaluating:  68%|██████████████████████████████████████████████████████████████████████████████████████████████████████████                                                 | 26/38 [01:40<00:46,  3.87s/it]"
     ]
    },
    {
     "name": "stderr",
     "output_type": "stream",
     "text": [
      "\r\n",
      "Evaluating:  71%|██████████████████████████████████████████████████████████████████████████████████████████████████████████████▏                                            | 27/38 [01:45<00:44,  4.07s/it]"
     ]
    },
    {
     "name": "stderr",
     "output_type": "stream",
     "text": [
      "\r\n",
      "Evaluating:  74%|██████████████████████████████████████████████████████████████████████████████████████████████████████████████████▏                                        | 28/38 [01:49<00:42,  4.21s/it]"
     ]
    },
    {
     "name": "stderr",
     "output_type": "stream",
     "text": [
      "\r\n",
      "Evaluating:  76%|██████████████████████████████████████████████████████████████████████████████████████████████████████████████████████▎                                    | 29/38 [01:52<00:34,  3.88s/it]"
     ]
    },
    {
     "name": "stderr",
     "output_type": "stream",
     "text": [
      "\r\n",
      "Evaluating:  79%|██████████████████████████████████████████████████████████████████████████████████████████████████████████████████████████▎                                | 30/38 [01:57<00:32,  4.09s/it]"
     ]
    },
    {
     "name": "stderr",
     "output_type": "stream",
     "text": [
      "\r\n",
      "Evaluating:  82%|██████████████████████████████████████████████████████████████████████████████████████████████████████████████████████████████▍                            | 31/38 [02:00<00:27,  3.93s/it]"
     ]
    },
    {
     "name": "stderr",
     "output_type": "stream",
     "text": [
      "\r\n",
      "Evaluating:  84%|██████████████████████████████████████████████████████████████████████████████████████████████████████████████████████████████████▌                        | 32/38 [02:04<00:22,  3.73s/it]"
     ]
    },
    {
     "name": "stderr",
     "output_type": "stream",
     "text": [
      "\r\n",
      "Evaluating:  87%|██████████████████████████████████████████████████████████████████████████████████████████████████████████████████████████████████████▌                    | 33/38 [02:08<00:19,  3.99s/it]"
     ]
    },
    {
     "name": "stderr",
     "output_type": "stream",
     "text": [
      "\r\n",
      "Evaluating:  89%|██████████████████████████████████████████████████████████████████████████████████████████████████████████████████████████████████████████▋                | 34/38 [02:13<00:16,  4.22s/it]"
     ]
    },
    {
     "name": "stderr",
     "output_type": "stream",
     "text": [
      "\r\n",
      "Evaluating:  92%|██████████████████████████████████████████████████████████████████████████████████████████████████████████████████████████████████████████████▊            | 35/38 [02:17<00:12,  4.09s/it]"
     ]
    },
    {
     "name": "stderr",
     "output_type": "stream",
     "text": [
      "\r\n",
      "Evaluating:  95%|██████████████████████████████████████████████████████████████████████████████████████████████████████████████████████████████████████████████████▊        | 36/38 [02:20<00:07,  3.92s/it]"
     ]
    },
    {
     "name": "stderr",
     "output_type": "stream",
     "text": [
      "\r\n",
      "Evaluating:  97%|██████████████████████████████████████████████████████████████████████████████████████████████████████████████████████████████████████████████████████▉    | 37/38 [02:23<00:03,  3.52s/it]"
     ]
    },
    {
     "name": "stderr",
     "output_type": "stream",
     "text": [
      "\r\n",
      "Evaluating: 100%|███████████████████████████████████████████████████████████████████████████████████████████████████████████████████████████████████████████████████████████| 38/38 [02:26<00:00,  3.46s/it]"
     ]
    },
    {
     "name": "stderr",
     "output_type": "stream",
     "text": [
      "\r\n",
      "Evaluating: 100%|███████████████████████████████████████████████████████████████████████████████████████████████████████████████████████████████████████████████████████████| 38/38 [02:26<00:00,  3.86s/it]"
     ]
    },
    {
     "name": "stdout",
     "output_type": "stream",
     "text": [
      "\n",
      "Accuracy: 0.3467 (52/150)\n"
     ]
    },
    {
     "name": "stderr",
     "output_type": "stream",
     "text": [
      "\n"
     ]
    }
   ],
   "source": [
    "print(\"\\nEvaluating on CT (OOD)...\")\n",
    "evaluate(\n",
    "    test_sets[\"CT (OOD)\"],\n",
    "    model,\n",
    "    processor,\n",
    "    batch_size=4\n",
    ")"
   ]
  },
  {
   "cell_type": "code",
   "execution_count": null,
   "metadata": {
    "colab": {
     "base_uri": "https://localhost:8080/",
     "height": 1000
    },
    "execution": {
     "iopub.execute_input": "2025-07-14T19:38:04.297412Z",
     "iopub.status.busy": "2025-07-14T19:38:04.297267Z",
     "iopub.status.idle": "2025-07-14T19:41:51.475672Z",
     "shell.execute_reply": "2025-07-14T19:41:51.475246Z"
    },
    "id": "2xv9TC0zQUmI",
    "outputId": "0747cf24-5119-445d-8494-fb8ae487ddc5"
   },
   "outputs": [
    {
     "name": "stdout",
     "output_type": "stream",
     "text": [
      "\n",
      "Evaluating on X-ray (OOD)...\n"
     ]
    },
    {
     "name": "stderr",
     "output_type": "stream",
     "text": [
      "\r\n",
      "Evaluating:   0%|                                                                                                                                                                    | 0/38 [00:00<?, ?it/s]"
     ]
    },
    {
     "name": "stderr",
     "output_type": "stream",
     "text": [
      "\r\n",
      "Evaluating:   3%|████                                                                                                                                                        | 1/38 [00:06<03:50,  6.24s/it]"
     ]
    },
    {
     "name": "stderr",
     "output_type": "stream",
     "text": [
      "\r\n",
      "Evaluating:   5%|████████▏                                                                                                                                                   | 2/38 [00:11<03:30,  5.84s/it]"
     ]
    },
    {
     "name": "stderr",
     "output_type": "stream",
     "text": [
      "\r\n",
      "Evaluating:   8%|████████████▎                                                                                                                                               | 3/38 [00:18<03:33,  6.10s/it]"
     ]
    },
    {
     "name": "stderr",
     "output_type": "stream",
     "text": [
      "\r\n",
      "Evaluating:  11%|████████████████▍                                                                                                                                           | 4/38 [00:23<03:20,  5.91s/it]"
     ]
    },
    {
     "name": "stderr",
     "output_type": "stream",
     "text": [
      "\r\n",
      "Evaluating:  13%|████████████████████▌                                                                                                                                       | 5/38 [00:29<03:08,  5.71s/it]"
     ]
    },
    {
     "name": "stderr",
     "output_type": "stream",
     "text": [
      "\r\n",
      "Evaluating:  16%|████████████████████████▋                                                                                                                                   | 6/38 [00:33<02:49,  5.30s/it]"
     ]
    },
    {
     "name": "stderr",
     "output_type": "stream",
     "text": [
      "\r\n",
      "Evaluating:  18%|████████████████████████████▋                                                                                                                               | 7/38 [00:39<02:50,  5.51s/it]"
     ]
    },
    {
     "name": "stderr",
     "output_type": "stream",
     "text": [
      "\r\n",
      "Evaluating:  21%|████████████████████████████████▊                                                                                                                           | 8/38 [00:43<02:29,  4.99s/it]"
     ]
    },
    {
     "name": "stderr",
     "output_type": "stream",
     "text": [
      "\r\n",
      "Evaluating:  24%|████████████████████████████████████▉                                                                                                                       | 9/38 [00:48<02:26,  5.04s/it]"
     ]
    },
    {
     "name": "stderr",
     "output_type": "stream",
     "text": [
      "\r\n",
      "Evaluating:  26%|████████████████████████████████████████▊                                                                                                                  | 10/38 [00:56<02:46,  5.96s/it]"
     ]
    },
    {
     "name": "stderr",
     "output_type": "stream",
     "text": [
      "\r\n",
      "Evaluating:  29%|████████████████████████████████████████████▊                                                                                                              | 11/38 [01:04<02:56,  6.54s/it]"
     ]
    },
    {
     "name": "stderr",
     "output_type": "stream",
     "text": [
      "\r\n",
      "Evaluating:  32%|████████████████████████████████████████████████▉                                                                                                          | 12/38 [01:10<02:44,  6.33s/it]"
     ]
    },
    {
     "name": "stderr",
     "output_type": "stream",
     "text": [
      "\r\n",
      "Evaluating:  34%|█████████████████████████████████████████████████████                                                                                                      | 13/38 [01:17<02:45,  6.60s/it]"
     ]
    },
    {
     "name": "stderr",
     "output_type": "stream",
     "text": [
      "\r\n",
      "Evaluating:  37%|█████████████████████████████████████████████████████████                                                                                                  | 14/38 [01:24<02:42,  6.78s/it]"
     ]
    },
    {
     "name": "stderr",
     "output_type": "stream",
     "text": [
      "\r\n",
      "Evaluating:  39%|█████████████████████████████████████████████████████████████▏                                                                                             | 15/38 [01:29<02:18,  6.01s/it]"
     ]
    },
    {
     "name": "stderr",
     "output_type": "stream",
     "text": [
      "\r\n",
      "Evaluating:  42%|█████████████████████████████████████████████████████████████████▎                                                                                         | 16/38 [01:36<02:23,  6.52s/it]"
     ]
    },
    {
     "name": "stderr",
     "output_type": "stream",
     "text": [
      "\r\n",
      "Evaluating:  45%|█████████████████████████████████████████████████████████████████████▎                                                                                     | 17/38 [01:43<02:16,  6.51s/it]"
     ]
    },
    {
     "name": "stderr",
     "output_type": "stream",
     "text": [
      "\r\n",
      "Evaluating:  47%|█████████████████████████████████████████████████████████████████████████▍                                                                                 | 18/38 [01:50<02:16,  6.84s/it]"
     ]
    },
    {
     "name": "stderr",
     "output_type": "stream",
     "text": [
      "\r\n",
      "Evaluating:  50%|█████████████████████████████████████████████████████████████████████████████▌                                                                             | 19/38 [01:56<02:03,  6.51s/it]"
     ]
    },
    {
     "name": "stderr",
     "output_type": "stream",
     "text": [
      "\r\n",
      "Evaluating:  53%|█████████████████████████████████████████████████████████████████████████████████▌                                                                         | 20/38 [02:00<01:44,  5.81s/it]"
     ]
    },
    {
     "name": "stderr",
     "output_type": "stream",
     "text": [
      "\r\n",
      "Evaluating:  55%|█████████████████████████████████████████████████████████████████████████████████████▋                                                                     | 21/38 [02:05<01:35,  5.61s/it]"
     ]
    },
    {
     "name": "stderr",
     "output_type": "stream",
     "text": [
      "\r\n",
      "Evaluating:  58%|█████████████████████████████████████████████████████████████████████████████████████████▋                                                                 | 22/38 [02:11<01:31,  5.70s/it]"
     ]
    },
    {
     "name": "stderr",
     "output_type": "stream",
     "text": [
      "\r\n",
      "Evaluating:  61%|█████████████████████████████████████████████████████████████████████████████████████████████▊                                                             | 23/38 [02:18<01:29,  5.98s/it]"
     ]
    },
    {
     "name": "stderr",
     "output_type": "stream",
     "text": [
      "\r\n",
      "Evaluating:  63%|█████████████████████████████████████████████████████████████████████████████████████████████████▉                                                         | 24/38 [02:25<01:27,  6.27s/it]"
     ]
    },
    {
     "name": "stderr",
     "output_type": "stream",
     "text": [
      "\r\n",
      "Evaluating:  66%|█████████████████████████████████████████████████████████████████████████████████████████████████████▉                                                     | 25/38 [02:31<01:20,  6.19s/it]"
     ]
    },
    {
     "name": "stderr",
     "output_type": "stream",
     "text": [
      "\r\n",
      "Evaluating:  68%|██████████████████████████████████████████████████████████████████████████████████████████████████████████                                                 | 26/38 [02:39<01:19,  6.65s/it]"
     ]
    },
    {
     "name": "stderr",
     "output_type": "stream",
     "text": [
      "\r\n",
      "Evaluating:  71%|██████████████████████████████████████████████████████████████████████████████████████████████████████████████▏                                            | 27/38 [02:46<01:16,  6.96s/it]"
     ]
    },
    {
     "name": "stderr",
     "output_type": "stream",
     "text": [
      "\r\n",
      "Evaluating:  74%|██████████████████████████████████████████████████████████████████████████████████████████████████████████████████▏                                        | 28/38 [02:53<01:09,  6.93s/it]"
     ]
    },
    {
     "name": "stderr",
     "output_type": "stream",
     "text": [
      "\r\n",
      "Evaluating:  76%|██████████████████████████████████████████████████████████████████████████████████████████████████████████████████████▎                                    | 29/38 [03:00<01:01,  6.78s/it]"
     ]
    },
    {
     "name": "stderr",
     "output_type": "stream",
     "text": [
      "\r\n",
      "Evaluating:  79%|██████████████████████████████████████████████████████████████████████████████████████████████████████████████████████████▎                                | 30/38 [03:05<00:51,  6.49s/it]"
     ]
    },
    {
     "name": "stderr",
     "output_type": "stream",
     "text": [
      "\r\n",
      "Evaluating:  82%|██████████████████████████████████████████████████████████████████████████████████████████████████████████████████████████████▍                            | 31/38 [03:09<00:39,  5.59s/it]"
     ]
    },
    {
     "name": "stderr",
     "output_type": "stream",
     "text": [
      "\r\n",
      "Evaluating:  84%|██████████████████████████████████████████████████████████████████████████████████████████████████████████████████████████████████▌                        | 32/38 [03:15<00:35,  5.87s/it]"
     ]
    },
    {
     "name": "stderr",
     "output_type": "stream",
     "text": [
      "\r\n",
      "Evaluating:  87%|██████████████████████████████████████████████████████████████████████████████████████████████████████████████████████████████████████▌                    | 33/38 [03:21<00:28,  5.65s/it]"
     ]
    },
    {
     "name": "stderr",
     "output_type": "stream",
     "text": [
      "\r\n",
      "Evaluating:  89%|██████████████████████████████████████████████████████████████████████████████████████████████████████████████████████████████████████████▋                | 34/38 [03:27<00:24,  6.01s/it]"
     ]
    },
    {
     "name": "stderr",
     "output_type": "stream",
     "text": [
      "\r\n",
      "Evaluating:  92%|██████████████████████████████████████████████████████████████████████████████████████████████████████████████████████████████████████████████▊            | 35/38 [03:33<00:17,  5.87s/it]"
     ]
    },
    {
     "name": "stderr",
     "output_type": "stream",
     "text": [
      "\r\n",
      "Evaluating:  95%|██████████████████████████████████████████████████████████████████████████████████████████████████████████████████████████████████████████████████▊        | 36/38 [03:39<00:11,  5.91s/it]"
     ]
    },
    {
     "name": "stderr",
     "output_type": "stream",
     "text": [
      "\r\n",
      "Evaluating:  97%|██████████████████████████████████████████████████████████████████████████████████████████████████████████████████████████████████████████████████████▉    | 37/38 [03:43<00:05,  5.35s/it]"
     ]
    },
    {
     "name": "stderr",
     "output_type": "stream",
     "text": [
      "\r\n",
      "Evaluating: 100%|███████████████████████████████████████████████████████████████████████████████████████████████████████████████████████████████████████████████████████████| 38/38 [03:47<00:00,  4.85s/it]"
     ]
    },
    {
     "name": "stderr",
     "output_type": "stream",
     "text": [
      "\r\n",
      "Evaluating: 100%|███████████████████████████████████████████████████████████████████████████████████████████████████████████████████████████████████████████████████████████| 38/38 [03:47<00:00,  5.98s/it]"
     ]
    },
    {
     "name": "stdout",
     "output_type": "stream",
     "text": [
      "\n",
      "Accuracy: 0.3733 (56/150)\n"
     ]
    },
    {
     "name": "stderr",
     "output_type": "stream",
     "text": [
      "\n"
     ]
    }
   ],
   "source": [
    "print(\"\\nEvaluating on X-ray (OOD)...\")\n",
    "evaluate(\n",
    "    test_sets[\"X-ray (OOD)\"],\n",
    "    model,\n",
    "    processor,\n",
    "    batch_size=4\n",
    ")"
   ]
  }
 ],
 "metadata": {
  "accelerator": "GPU",
  "colab": {
   "gpuType": "T4",
   "provenance": []
  },
  "kernelspec": {
   "display_name": "Python 3",
   "name": "python3"
  },
  "language_info": {
   "codemirror_mode": {
    "name": "ipython",
    "version": 3
   },
   "file_extension": ".py",
   "mimetype": "text/x-python",
   "name": "python",
   "nbconvert_exporter": "python",
   "pygments_lexer": "ipython3",
   "version": "3.11.13"
  },
  "widgets": {
   "application/vnd.jupyter.widget-state+json": {
    "1a4b0109b06e414ab78e04131e32b919": {
     "model_module": "@jupyter-widgets/controls",
     "model_module_version": "1.5.0",
     "model_name": "FloatProgressModel",
     "state": {
      "_dom_classes": [],
      "_model_module": "@jupyter-widgets/controls",
      "_model_module_version": "1.5.0",
      "_model_name": "FloatProgressModel",
      "_view_count": null,
      "_view_module": "@jupyter-widgets/controls",
      "_view_module_version": "1.5.0",
      "_view_name": "ProgressView",
      "bar_style": "success",
      "description": "",
      "description_tooltip": null,
      "layout": "IPY_MODEL_e20beabf7d334e14aaf6a80cbe0d98a6",
      "max": 2,
      "min": 0,
      "orientation": "horizontal",
      "style": "IPY_MODEL_ffc0dc0f94b2476388d17731d959338b",
      "value": 2
     }
    },
    "356f97ef3373483f9662fcd884077a4b": {
     "model_module": "@jupyter-widgets/base",
     "model_module_version": "1.2.0",
     "model_name": "LayoutModel",
     "state": {
      "_model_module": "@jupyter-widgets/base",
      "_model_module_version": "1.2.0",
      "_model_name": "LayoutModel",
      "_view_count": null,
      "_view_module": "@jupyter-widgets/base",
      "_view_module_version": "1.2.0",
      "_view_name": "LayoutView",
      "align_content": null,
      "align_items": null,
      "align_self": null,
      "border": null,
      "bottom": null,
      "display": null,
      "flex": null,
      "flex_flow": null,
      "grid_area": null,
      "grid_auto_columns": null,
      "grid_auto_flow": null,
      "grid_auto_rows": null,
      "grid_column": null,
      "grid_gap": null,
      "grid_row": null,
      "grid_template_areas": null,
      "grid_template_columns": null,
      "grid_template_rows": null,
      "height": null,
      "justify_content": null,
      "justify_items": null,
      "left": null,
      "margin": null,
      "max_height": null,
      "max_width": null,
      "min_height": null,
      "min_width": null,
      "object_fit": null,
      "object_position": null,
      "order": null,
      "overflow": null,
      "overflow_x": null,
      "overflow_y": null,
      "padding": null,
      "right": null,
      "top": null,
      "visibility": null,
      "width": null
     }
    },
    "492f4cad0a19421c9fe4b4da2ca2884c": {
     "model_module": "@jupyter-widgets/controls",
     "model_module_version": "1.5.0",
     "model_name": "DescriptionStyleModel",
     "state": {
      "_model_module": "@jupyter-widgets/controls",
      "_model_module_version": "1.5.0",
      "_model_name": "DescriptionStyleModel",
      "_view_count": null,
      "_view_module": "@jupyter-widgets/base",
      "_view_module_version": "1.2.0",
      "_view_name": "StyleView",
      "description_width": ""
     }
    },
    "507e91a3ac6c42bd9adfd86ef63beabf": {
     "model_module": "@jupyter-widgets/controls",
     "model_module_version": "1.5.0",
     "model_name": "FloatProgressModel",
     "state": {
      "_dom_classes": [],
      "_model_module": "@jupyter-widgets/controls",
      "_model_module_version": "1.5.0",
      "_model_name": "FloatProgressModel",
      "_view_count": null,
      "_view_module": "@jupyter-widgets/controls",
      "_view_module_version": "1.5.0",
      "_view_name": "ProgressView",
      "bar_style": "success",
      "description": "",
      "description_tooltip": null,
      "layout": "IPY_MODEL_6da312fba1df490bbd1fb542d6d0e598",
      "max": 2,
      "min": 0,
      "orientation": "horizontal",
      "style": "IPY_MODEL_7e5d6443b9b142738dce230115d5cd6c",
      "value": 2
     }
    },
    "60ef9c891a5a47a891de3ccec64b2792": {
     "model_module": "@jupyter-widgets/base",
     "model_module_version": "1.2.0",
     "model_name": "LayoutModel",
     "state": {
      "_model_module": "@jupyter-widgets/base",
      "_model_module_version": "1.2.0",
      "_model_name": "LayoutModel",
      "_view_count": null,
      "_view_module": "@jupyter-widgets/base",
      "_view_module_version": "1.2.0",
      "_view_name": "LayoutView",
      "align_content": null,
      "align_items": null,
      "align_self": null,
      "border": null,
      "bottom": null,
      "display": null,
      "flex": null,
      "flex_flow": null,
      "grid_area": null,
      "grid_auto_columns": null,
      "grid_auto_flow": null,
      "grid_auto_rows": null,
      "grid_column": null,
      "grid_gap": null,
      "grid_row": null,
      "grid_template_areas": null,
      "grid_template_columns": null,
      "grid_template_rows": null,
      "height": null,
      "justify_content": null,
      "justify_items": null,
      "left": null,
      "margin": null,
      "max_height": null,
      "max_width": null,
      "min_height": null,
      "min_width": null,
      "object_fit": null,
      "object_position": null,
      "order": null,
      "overflow": null,
      "overflow_x": null,
      "overflow_y": null,
      "padding": null,
      "right": null,
      "top": null,
      "visibility": null,
      "width": null
     }
    },
    "6b71140a01d84d5e92684f608a1e15c3": {
     "model_module": "@jupyter-widgets/base",
     "model_module_version": "1.2.0",
     "model_name": "LayoutModel",
     "state": {
      "_model_module": "@jupyter-widgets/base",
      "_model_module_version": "1.2.0",
      "_model_name": "LayoutModel",
      "_view_count": null,
      "_view_module": "@jupyter-widgets/base",
      "_view_module_version": "1.2.0",
      "_view_name": "LayoutView",
      "align_content": null,
      "align_items": null,
      "align_self": null,
      "border": null,
      "bottom": null,
      "display": null,
      "flex": null,
      "flex_flow": null,
      "grid_area": null,
      "grid_auto_columns": null,
      "grid_auto_flow": null,
      "grid_auto_rows": null,
      "grid_column": null,
      "grid_gap": null,
      "grid_row": null,
      "grid_template_areas": null,
      "grid_template_columns": null,
      "grid_template_rows": null,
      "height": null,
      "justify_content": null,
      "justify_items": null,
      "left": null,
      "margin": null,
      "max_height": null,
      "max_width": null,
      "min_height": null,
      "min_width": null,
      "object_fit": null,
      "object_position": null,
      "order": null,
      "overflow": null,
      "overflow_x": null,
      "overflow_y": null,
      "padding": null,
      "right": null,
      "top": null,
      "visibility": null,
      "width": null
     }
    },
    "6da312fba1df490bbd1fb542d6d0e598": {
     "model_module": "@jupyter-widgets/base",
     "model_module_version": "1.2.0",
     "model_name": "LayoutModel",
     "state": {
      "_model_module": "@jupyter-widgets/base",
      "_model_module_version": "1.2.0",
      "_model_name": "LayoutModel",
      "_view_count": null,
      "_view_module": "@jupyter-widgets/base",
      "_view_module_version": "1.2.0",
      "_view_name": "LayoutView",
      "align_content": null,
      "align_items": null,
      "align_self": null,
      "border": null,
      "bottom": null,
      "display": null,
      "flex": null,
      "flex_flow": null,
      "grid_area": null,
      "grid_auto_columns": null,
      "grid_auto_flow": null,
      "grid_auto_rows": null,
      "grid_column": null,
      "grid_gap": null,
      "grid_row": null,
      "grid_template_areas": null,
      "grid_template_columns": null,
      "grid_template_rows": null,
      "height": null,
      "justify_content": null,
      "justify_items": null,
      "left": null,
      "margin": null,
      "max_height": null,
      "max_width": null,
      "min_height": null,
      "min_width": null,
      "object_fit": null,
      "object_position": null,
      "order": null,
      "overflow": null,
      "overflow_x": null,
      "overflow_y": null,
      "padding": null,
      "right": null,
      "top": null,
      "visibility": null,
      "width": null
     }
    },
    "7432c7288dfe4134935d2565eeb73d94": {
     "model_module": "@jupyter-widgets/base",
     "model_module_version": "1.2.0",
     "model_name": "LayoutModel",
     "state": {
      "_model_module": "@jupyter-widgets/base",
      "_model_module_version": "1.2.0",
      "_model_name": "LayoutModel",
      "_view_count": null,
      "_view_module": "@jupyter-widgets/base",
      "_view_module_version": "1.2.0",
      "_view_name": "LayoutView",
      "align_content": null,
      "align_items": null,
      "align_self": null,
      "border": null,
      "bottom": null,
      "display": null,
      "flex": null,
      "flex_flow": null,
      "grid_area": null,
      "grid_auto_columns": null,
      "grid_auto_flow": null,
      "grid_auto_rows": null,
      "grid_column": null,
      "grid_gap": null,
      "grid_row": null,
      "grid_template_areas": null,
      "grid_template_columns": null,
      "grid_template_rows": null,
      "height": null,
      "justify_content": null,
      "justify_items": null,
      "left": null,
      "margin": null,
      "max_height": null,
      "max_width": null,
      "min_height": null,
      "min_width": null,
      "object_fit": null,
      "object_position": null,
      "order": null,
      "overflow": null,
      "overflow_x": null,
      "overflow_y": null,
      "padding": null,
      "right": null,
      "top": null,
      "visibility": null,
      "width": null
     }
    },
    "7e5d6443b9b142738dce230115d5cd6c": {
     "model_module": "@jupyter-widgets/controls",
     "model_module_version": "1.5.0",
     "model_name": "ProgressStyleModel",
     "state": {
      "_model_module": "@jupyter-widgets/controls",
      "_model_module_version": "1.5.0",
      "_model_name": "ProgressStyleModel",
      "_view_count": null,
      "_view_module": "@jupyter-widgets/base",
      "_view_module_version": "1.2.0",
      "_view_name": "StyleView",
      "bar_color": null,
      "description_width": ""
     }
    },
    "9450e656f8554eedbbdbd80e3527dbc9": {
     "model_module": "@jupyter-widgets/base",
     "model_module_version": "1.2.0",
     "model_name": "LayoutModel",
     "state": {
      "_model_module": "@jupyter-widgets/base",
      "_model_module_version": "1.2.0",
      "_model_name": "LayoutModel",
      "_view_count": null,
      "_view_module": "@jupyter-widgets/base",
      "_view_module_version": "1.2.0",
      "_view_name": "LayoutView",
      "align_content": null,
      "align_items": null,
      "align_self": null,
      "border": null,
      "bottom": null,
      "display": null,
      "flex": null,
      "flex_flow": null,
      "grid_area": null,
      "grid_auto_columns": null,
      "grid_auto_flow": null,
      "grid_auto_rows": null,
      "grid_column": null,
      "grid_gap": null,
      "grid_row": null,
      "grid_template_areas": null,
      "grid_template_columns": null,
      "grid_template_rows": null,
      "height": null,
      "justify_content": null,
      "justify_items": null,
      "left": null,
      "margin": null,
      "max_height": null,
      "max_width": null,
      "min_height": null,
      "min_width": null,
      "object_fit": null,
      "object_position": null,
      "order": null,
      "overflow": null,
      "overflow_x": null,
      "overflow_y": null,
      "padding": null,
      "right": null,
      "top": null,
      "visibility": null,
      "width": null
     }
    },
    "a8261bfe820e43eeac45497c7bfb2875": {
     "model_module": "@jupyter-widgets/controls",
     "model_module_version": "1.5.0",
     "model_name": "DescriptionStyleModel",
     "state": {
      "_model_module": "@jupyter-widgets/controls",
      "_model_module_version": "1.5.0",
      "_model_name": "DescriptionStyleModel",
      "_view_count": null,
      "_view_module": "@jupyter-widgets/base",
      "_view_module_version": "1.2.0",
      "_view_name": "StyleView",
      "description_width": ""
     }
    },
    "ae14f17d033b45c883566bc100fc880a": {
     "model_module": "@jupyter-widgets/controls",
     "model_module_version": "1.5.0",
     "model_name": "HTMLModel",
     "state": {
      "_dom_classes": [],
      "_model_module": "@jupyter-widgets/controls",
      "_model_module_version": "1.5.0",
      "_model_name": "HTMLModel",
      "_view_count": null,
      "_view_module": "@jupyter-widgets/controls",
      "_view_module_version": "1.5.0",
      "_view_name": "HTMLView",
      "description": "",
      "description_tooltip": null,
      "layout": "IPY_MODEL_bb6c73c8ee824f5e8ad132a785c36d62",
      "placeholder": "​",
      "style": "IPY_MODEL_b26daf11cdae4e11a6718a3f5d58befe",
      "value": "Fetching 2 files: 100%"
     }
    },
    "b26daf11cdae4e11a6718a3f5d58befe": {
     "model_module": "@jupyter-widgets/controls",
     "model_module_version": "1.5.0",
     "model_name": "DescriptionStyleModel",
     "state": {
      "_model_module": "@jupyter-widgets/controls",
      "_model_module_version": "1.5.0",
      "_model_name": "DescriptionStyleModel",
      "_view_count": null,
      "_view_module": "@jupyter-widgets/base",
      "_view_module_version": "1.2.0",
      "_view_name": "StyleView",
      "description_width": ""
     }
    },
    "b6dc45932c46481394043284f3b5da1d": {
     "model_module": "@jupyter-widgets/controls",
     "model_module_version": "1.5.0",
     "model_name": "HBoxModel",
     "state": {
      "_dom_classes": [],
      "_model_module": "@jupyter-widgets/controls",
      "_model_module_version": "1.5.0",
      "_model_name": "HBoxModel",
      "_view_count": null,
      "_view_module": "@jupyter-widgets/controls",
      "_view_module_version": "1.5.0",
      "_view_name": "HBoxView",
      "box_style": "",
      "children": [
       "IPY_MODEL_ae14f17d033b45c883566bc100fc880a",
       "IPY_MODEL_507e91a3ac6c42bd9adfd86ef63beabf",
       "IPY_MODEL_c0adb050988244d3a7b70eaa7c522201"
      ],
      "layout": "IPY_MODEL_60ef9c891a5a47a891de3ccec64b2792"
     }
    },
    "bb6c73c8ee824f5e8ad132a785c36d62": {
     "model_module": "@jupyter-widgets/base",
     "model_module_version": "1.2.0",
     "model_name": "LayoutModel",
     "state": {
      "_model_module": "@jupyter-widgets/base",
      "_model_module_version": "1.2.0",
      "_model_name": "LayoutModel",
      "_view_count": null,
      "_view_module": "@jupyter-widgets/base",
      "_view_module_version": "1.2.0",
      "_view_name": "LayoutView",
      "align_content": null,
      "align_items": null,
      "align_self": null,
      "border": null,
      "bottom": null,
      "display": null,
      "flex": null,
      "flex_flow": null,
      "grid_area": null,
      "grid_auto_columns": null,
      "grid_auto_flow": null,
      "grid_auto_rows": null,
      "grid_column": null,
      "grid_gap": null,
      "grid_row": null,
      "grid_template_areas": null,
      "grid_template_columns": null,
      "grid_template_rows": null,
      "height": null,
      "justify_content": null,
      "justify_items": null,
      "left": null,
      "margin": null,
      "max_height": null,
      "max_width": null,
      "min_height": null,
      "min_width": null,
      "object_fit": null,
      "object_position": null,
      "order": null,
      "overflow": null,
      "overflow_x": null,
      "overflow_y": null,
      "padding": null,
      "right": null,
      "top": null,
      "visibility": null,
      "width": null
     }
    },
    "c099209bd0e548d3a0453e3196232fe3": {
     "model_module": "@jupyter-widgets/controls",
     "model_module_version": "1.5.0",
     "model_name": "HBoxModel",
     "state": {
      "_dom_classes": [],
      "_model_module": "@jupyter-widgets/controls",
      "_model_module_version": "1.5.0",
      "_model_name": "HBoxModel",
      "_view_count": null,
      "_view_module": "@jupyter-widgets/controls",
      "_view_module_version": "1.5.0",
      "_view_name": "HBoxView",
      "box_style": "",
      "children": [
       "IPY_MODEL_fb764935a9ed46f591dfccb12a5d0243",
       "IPY_MODEL_1a4b0109b06e414ab78e04131e32b919",
       "IPY_MODEL_eca83a24b341474b8faa81f27b51705b"
      ],
      "layout": "IPY_MODEL_7432c7288dfe4134935d2565eeb73d94"
     }
    },
    "c0adb050988244d3a7b70eaa7c522201": {
     "model_module": "@jupyter-widgets/controls",
     "model_module_version": "1.5.0",
     "model_name": "HTMLModel",
     "state": {
      "_dom_classes": [],
      "_model_module": "@jupyter-widgets/controls",
      "_model_module_version": "1.5.0",
      "_model_name": "HTMLModel",
      "_view_count": null,
      "_view_module": "@jupyter-widgets/controls",
      "_view_module_version": "1.5.0",
      "_view_name": "HTMLView",
      "description": "",
      "description_tooltip": null,
      "layout": "IPY_MODEL_9450e656f8554eedbbdbd80e3527dbc9",
      "placeholder": "​",
      "style": "IPY_MODEL_dc262706c78542f7874b1115d64c9cef",
      "value": " 2/2 [00:00&lt;00:00, 66.96it/s]"
     }
    },
    "dc262706c78542f7874b1115d64c9cef": {
     "model_module": "@jupyter-widgets/controls",
     "model_module_version": "1.5.0",
     "model_name": "DescriptionStyleModel",
     "state": {
      "_model_module": "@jupyter-widgets/controls",
      "_model_module_version": "1.5.0",
      "_model_name": "DescriptionStyleModel",
      "_view_count": null,
      "_view_module": "@jupyter-widgets/base",
      "_view_module_version": "1.2.0",
      "_view_name": "StyleView",
      "description_width": ""
     }
    },
    "e20beabf7d334e14aaf6a80cbe0d98a6": {
     "model_module": "@jupyter-widgets/base",
     "model_module_version": "1.2.0",
     "model_name": "LayoutModel",
     "state": {
      "_model_module": "@jupyter-widgets/base",
      "_model_module_version": "1.2.0",
      "_model_name": "LayoutModel",
      "_view_count": null,
      "_view_module": "@jupyter-widgets/base",
      "_view_module_version": "1.2.0",
      "_view_name": "LayoutView",
      "align_content": null,
      "align_items": null,
      "align_self": null,
      "border": null,
      "bottom": null,
      "display": null,
      "flex": null,
      "flex_flow": null,
      "grid_area": null,
      "grid_auto_columns": null,
      "grid_auto_flow": null,
      "grid_auto_rows": null,
      "grid_column": null,
      "grid_gap": null,
      "grid_row": null,
      "grid_template_areas": null,
      "grid_template_columns": null,
      "grid_template_rows": null,
      "height": null,
      "justify_content": null,
      "justify_items": null,
      "left": null,
      "margin": null,
      "max_height": null,
      "max_width": null,
      "min_height": null,
      "min_width": null,
      "object_fit": null,
      "object_position": null,
      "order": null,
      "overflow": null,
      "overflow_x": null,
      "overflow_y": null,
      "padding": null,
      "right": null,
      "top": null,
      "visibility": null,
      "width": null
     }
    },
    "eca83a24b341474b8faa81f27b51705b": {
     "model_module": "@jupyter-widgets/controls",
     "model_module_version": "1.5.0",
     "model_name": "HTMLModel",
     "state": {
      "_dom_classes": [],
      "_model_module": "@jupyter-widgets/controls",
      "_model_module_version": "1.5.0",
      "_model_name": "HTMLModel",
      "_view_count": null,
      "_view_module": "@jupyter-widgets/controls",
      "_view_module_version": "1.5.0",
      "_view_name": "HTMLView",
      "description": "",
      "description_tooltip": null,
      "layout": "IPY_MODEL_6b71140a01d84d5e92684f608a1e15c3",
      "placeholder": "​",
      "style": "IPY_MODEL_a8261bfe820e43eeac45497c7bfb2875",
      "value": " 2/2 [00:28&lt;00:00, 12.22s/it]"
     }
    },
    "fb764935a9ed46f591dfccb12a5d0243": {
     "model_module": "@jupyter-widgets/controls",
     "model_module_version": "1.5.0",
     "model_name": "HTMLModel",
     "state": {
      "_dom_classes": [],
      "_model_module": "@jupyter-widgets/controls",
      "_model_module_version": "1.5.0",
      "_model_name": "HTMLModel",
      "_view_count": null,
      "_view_module": "@jupyter-widgets/controls",
      "_view_module_version": "1.5.0",
      "_view_name": "HTMLView",
      "description": "",
      "description_tooltip": null,
      "layout": "IPY_MODEL_356f97ef3373483f9662fcd884077a4b",
      "placeholder": "​",
      "style": "IPY_MODEL_492f4cad0a19421c9fe4b4da2ca2884c",
      "value": "Loading checkpoint shards: 100%"
     }
    },
    "ffc0dc0f94b2476388d17731d959338b": {
     "model_module": "@jupyter-widgets/controls",
     "model_module_version": "1.5.0",
     "model_name": "ProgressStyleModel",
     "state": {
      "_model_module": "@jupyter-widgets/controls",
      "_model_module_version": "1.5.0",
      "_model_name": "ProgressStyleModel",
      "_view_count": null,
      "_view_module": "@jupyter-widgets/base",
      "_view_module_version": "1.2.0",
      "_view_name": "StyleView",
      "bar_color": null,
      "description_width": ""
     }
    }
   }
  }
 },
 "nbformat": 4,
 "nbformat_minor": 0
}
