{
 "cells": [
  {
   "cell_type": "code",
   "execution_count": null,
   "id": "6069e458",
   "metadata": {},
   "outputs": [
    {
     "name": "stdout",
     "output_type": "stream",
     "text": [
      "train.csv: All images present!\n",
      "val.csv: All images present!\n",
      "test_mri.csv: All images present!\n",
      "test_ct.csv: All images present!\n",
      "test_xray.csv: All images present!\n"
     ]
    }
   ],
   "source": [
    "import os\n",
    "import json\n",
    "import pandas as pd\n",
    "from PIL import Image, ImageStat\n",
    "import shutil\n",
    "import random\n",
    "\n",
    "random.seed(42)\n",
    "\n",
    "# Load all JSONs into DataFrame\n",
    "qa_dir = 'OmniMedVQA/QA_information/Open-access'\n",
    "all_samples = []\n",
    "for fname in os.listdir(qa_dir):\n",
    "    if fname.endswith('.json'):\n",
    "        with open(os.path.join(qa_dir, fname), 'r') as f:\n",
    "            all_samples.extend(json.load(f))\n",
    "full_df = pd.DataFrame(all_samples)\n",
    "\n",
    "# Filter for clear images\n",
    "def is_clear_image(img_path, min_size=128, min_var=10):\n",
    "    try:\n",
    "        img = Image.open(img_path)\n",
    "        if min(img.size) < min_size:\n",
    "            return False\n",
    "        stat = ImageStat.Stat(img)\n",
    "        if min(stat.var) < min_var:\n",
    "            return False\n",
    "        return True\n",
    "    except Exception:\n",
    "        return False\n",
    "\n",
    "dataset_root = 'OmniMedVQA'\n",
    "full_df['abs_image_path'] = full_df['image_path'].apply(lambda x: os.path.join(dataset_root, x))\n",
    "full_df['is_clear'] = full_df['abs_image_path'].apply(is_clear_image)\n",
    "full_df = full_df[full_df['is_clear']].copy()\n",
    "\n",
    "# Filter for meaningful VQA pairs\n",
    "def is_good_vqa(row, min_q=10, min_a=1):\n",
    "    q = str(row['question']).strip()\n",
    "    a = str(row['gt_answer']).strip()\n",
    "    return len(q) >= min_q and len(a) >= min_a and a.lower() not in ['unclear', 'unknown', 'no finding', 'none']\n",
    "\n",
    "full_df = full_df[full_df.apply(is_good_vqa, axis=1)].copy()\n",
    "\n",
    "# Filter by modality (MRI, CT, X-ray only; exclude OCT)\n",
    "oct_mask = full_df['modality_type'].str.contains('OCT', case=False)\n",
    "full_df = full_df[~oct_mask].copy()\n",
    "mri_df = full_df[(full_df['modality_type'].str.contains('MR', case=False)) & (full_df['dataset'] == 'RadImageNet')]\n",
    "ct_df = full_df[(full_df['modality_type'].str.contains('CT', case=False)) & (~full_df['modality_type'].str.contains('OCT', case=False))]\n",
    "xray_df = full_df[(full_df['modality_type'].str.contains('X-Ray', case=False))]\n",
    "\n",
    "# Sample splits according to your plan\n",
    "train_mri = mri_df.sample(n=min(2000, len(mri_df)), random_state=42)\n",
    "remaining_mri = mri_df[~mri_df['image_path'].isin(train_mri['image_path'])]\n",
    "val_mri = remaining_mri.sample(n=min(300, len(remaining_mri)), random_state=42)\n",
    "remaining_mri = remaining_mri[~remaining_mri['image_path'].isin(val_mri['image_path'])]\n",
    "test_mri = remaining_mri.sample(n=min(300, len(remaining_mri)), random_state=42)\n",
    "test_ct = ct_df.sample(n=min(300, len(ct_df)), random_state=42)\n",
    "test_xray = xray_df.sample(n=min(300, len(xray_df)), random_state=42)\n",
    "\n",
    "# Save splits as CSVs\n",
    "train_mri.to_csv('train.csv', index=False)\n",
    "val_mri.to_csv('val.csv', index=False)\n",
    "test_mri.to_csv('test_mri.csv', index=False)\n",
    "test_ct.to_csv('test_ct.csv', index=False)\n",
    "test_xray.to_csv('test_xray.csv', index=False)\n",
    "\n",
    "# Copy needed images to new folder\n",
    "output_root = 'OmniMedVQA_Subset_MedVLMR1'\n",
    "needed_images = set()\n",
    "for df in [train_mri, val_mri, test_mri, test_ct, test_xray]:\n",
    "    needed_images.update(df['image_path'])\n",
    "\n",
    "for rel_path in needed_images:\n",
    "    src = os.path.join(dataset_root, rel_path)\n",
    "    dst = os.path.join(output_root, rel_path)\n",
    "    os.makedirs(os.path.dirname(dst), exist_ok=True)\n",
    "    if os.path.exists(src):\n",
    "        shutil.copy2(src, dst)\n",
    "    else:\n",
    "        print(f\"Missing: {src}\")\n",
    "\n",
    "# Verify all images exist\n",
    "for split, df in zip(\n",
    "    ['train.csv', 'val.csv', 'test_mri.csv', 'test_ct.csv', 'test_xray.csv'],\n",
    "    [train_mri, val_mri, test_mri, test_ct, test_xray]\n",
    "):\n",
    "    missing = []\n",
    "    for rel_path in df['image_path']:\n",
    "        full_path = os.path.join(output_root, rel_path)\n",
    "        if not os.path.exists(full_path):\n",
    "            missing.append(rel_path)\n",
    "    if missing:\n",
    "        print(f\"{split}: {len(missing)} missing images\")\n",
    "        print(\"Examples:\", missing[:5])\n",
    "    else:\n",
    "        print(f\"{split}: All images present!\")"
   ]
  },
  {
   "cell_type": "code",
   "execution_count": 9,
   "id": "74c7c46f",
   "metadata": {},
   "outputs": [
    {
     "data": {
      "text/plain": [
       "modality_type\n",
       "MR (Mag-netic Resonance Imaging)    2000\n",
       "Name: count, dtype: int64"
      ]
     },
     "execution_count": 9,
     "metadata": {},
     "output_type": "execute_result"
    }
   ],
   "source": [
    "train_mri['modality_type'].value_counts()"
   ]
  },
  {
   "cell_type": "code",
   "execution_count": 10,
   "id": "cfbeec5d",
   "metadata": {},
   "outputs": [
    {
     "data": {
      "text/plain": [
       "modality_type\n",
       "MR (Mag-netic Resonance Imaging)    300\n",
       "Name: count, dtype: int64"
      ]
     },
     "execution_count": 10,
     "metadata": {},
     "output_type": "execute_result"
    }
   ],
   "source": [
    "val_mri['modality_type'].value_counts()"
   ]
  },
  {
   "cell_type": "code",
   "execution_count": 11,
   "id": "ab64da5d",
   "metadata": {},
   "outputs": [
    {
     "data": {
      "text/plain": [
       "modality_type\n",
       "MR (Mag-netic Resonance Imaging)    300\n",
       "Name: count, dtype: int64"
      ]
     },
     "execution_count": 11,
     "metadata": {},
     "output_type": "execute_result"
    }
   ],
   "source": [
    "test_mri['modality_type'].value_counts()"
   ]
  },
  {
   "cell_type": "code",
   "execution_count": 12,
   "id": "4b60d438",
   "metadata": {},
   "outputs": [
    {
     "data": {
      "text/plain": [
       "modality_type\n",
       "CT(Computed Tomography)    300\n",
       "Name: count, dtype: int64"
      ]
     },
     "execution_count": 12,
     "metadata": {},
     "output_type": "execute_result"
    }
   ],
   "source": [
    "test_ct['modality_type'].value_counts()"
   ]
  },
  {
   "cell_type": "code",
   "execution_count": 13,
   "id": "c28a203d",
   "metadata": {},
   "outputs": [
    {
     "data": {
      "text/plain": [
       "modality_type\n",
       "X-Ray    300\n",
       "Name: count, dtype: int64"
      ]
     },
     "execution_count": 13,
     "metadata": {},
     "output_type": "execute_result"
    }
   ],
   "source": [
    "test_xray['modality_type'].value_counts()"
   ]
  }
 ],
 "metadata": {
  "kernelspec": {
   "display_name": "Python 3 (ipykernel)",
   "language": "python",
   "name": "python3"
  },
  "language_info": {
   "codemirror_mode": {
    "name": "ipython",
    "version": 3
   },
   "file_extension": ".py",
   "mimetype": "text/x-python",
   "name": "python",
   "nbconvert_exporter": "python",
   "pygments_lexer": "ipython3",
   "version": "3.10.9"
  }
 },
 "nbformat": 4,
 "nbformat_minor": 5
}
